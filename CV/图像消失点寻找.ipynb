{
 "cells": [
  {
   "cell_type": "markdown",
   "id": "c31cedf7",
   "metadata": {},
   "source": [
    "### The University of Melbourne, School of Computing and Information Systems\n",
    "# COMP90086 Computer Vision, 2021 Semester 2\n",
    "\n",
    "## Assignment 2"
   ]
  },
  {
   "cell_type": "markdown",
   "id": "589e6af0",
   "metadata": {},
   "source": [
    "**Student Name:**    JIAXIN FAN\n",
    "\n",
    "**Student ID:**     `1163511"
   ]
  },
  {
   "cell_type": "markdown",
   "id": "eec16160",
   "metadata": {},
   "source": [
    "## This iPython notebook is a template which you should use for your Assignment 2 submission. This file should be submitted at the **Assignment 2: Code** link on the LMS.\n",
    "\n",
    "In addition to this file, you should submit a writren report explaining your results at the **Assignment 2: Report** link on the LMS. Please see the assignment specification for details on what must be included in the report for each question.\n",
    "\n",
    "*Adding proper comments to your code is MANDATORY.*"
   ]
  },
  {
   "cell_type": "markdown",
   "id": "a0f541be",
   "metadata": {},
   "source": [
    "### 2. Classification on the CIFAR-10 subset\n",
    "\n",
    "In this problem, you will conduct classification on a subset of the CIFAR10 dataset. The dataset is generated in the following coding block (Please don't modify the following coding block)."
   ]
  },
  {
   "cell_type": "markdown",
   "id": "656ca188",
   "metadata": {},
   "source": [
    "1. Implement  the  CNN  shown  in  Q1  in  the  assignment specificication  and  use  it  to classify the provided dataset.  Plot the training accuracy and testing accuracy under different epochs. Please see the assignment specificication for more details of the training settings."
   ]
  },
  {
   "cell_type": "code",
   "execution_count": 1,
   "id": "418d7dd2",
   "metadata": {},
   "outputs": [
    {
     "name": "stdout",
     "output_type": "stream",
     "text": [
      "train_images shape: (250, 32, 32, 3)\n",
      "train_labels shape: (250, 1)\n",
      "test_images shape: (200, 32, 32, 3)\n",
      "test_labels shape: (200, 1)\n"
     ]
    }
   ],
   "source": [
    "import matplotlib.pyplot as plt\n",
    "import tensorflow as tf\n",
    "import numpy as np\n",
    "import keras\n",
    "import math \n",
    "from scipy import ndimage \n",
    "from keras.layers.core import Layer\n",
    "from keras.datasets import mnist\n",
    "from keras.models import Sequential\n",
    "from keras.datasets import cifar10\n",
    "from keras.models import Model\n",
    "from keras.layers import Conv2D, MaxPool2D,  \\\n",
    "    Dropout, Dense, Input, concatenate,      \\\n",
    "    GlobalAveragePooling2D, AveragePooling2D,\\\n",
    "    Flatten\n",
    "\n",
    "\n",
    "\n",
    "\n",
    "(train_images, train_labels), (test_images, test_labels) = keras.datasets.cifar10.load_data()\n",
    "\n",
    "train_images_sub=np.zeros([250,32,32,3])\n",
    "train_labels_sub=np.zeros([250,1])\n",
    "\n",
    "test_images_sub=np.zeros([200,32,32,3])\n",
    "test_labels_sub=np.zeros([200,1])\n",
    "\n",
    "for clsi in range (10):\n",
    "    idx=train_labels==clsi\n",
    "    idx=np.squeeze(idx)\n",
    "    imgs = train_images[idx,:,:,:]\n",
    "    imgs = imgs[::200,:,:,:]\n",
    "    train_images_sub[25*clsi:(clsi+1)*25,:,:,:] = imgs\n",
    "    train_labels_sub[25*clsi:(clsi+1)*25,:] = clsi\n",
    "    \n",
    "    idx=test_labels==clsi\n",
    "    idx=np.squeeze(idx)\n",
    "    imgs = test_images[idx,:,:,:]\n",
    "    imgs = imgs[::50,:,:,:]\n",
    "    test_images_sub[20*clsi:(clsi+1)*20,:,:,:]=imgs\n",
    "    test_labels_sub[20*clsi:(clsi+1)*20,:] = clsi\n",
    "    \n",
    "\n",
    "print(\"train_images shape:\", train_images_sub.shape)\n",
    "print(\"train_labels shape:\", train_labels_sub.shape)\n",
    "print(\"test_images shape:\", test_images_sub.shape)\n",
    "print(\"test_labels shape:\", test_labels_sub.shape)\n",
    "\n"
   ]
  },
  {
   "cell_type": "code",
   "execution_count": 3,
   "id": "e527c099",
   "metadata": {},
   "outputs": [],
   "source": [
    "kernel_init = keras.initializers.glorot_uniform()\n",
    "## if bias value =0 means doesn't consider bias \n",
    "bias_init = keras.initializers.Constant(value=0.2)"
   ]
  },
  {
   "cell_type": "code",
   "execution_count": 4,
   "id": "29a0f222",
   "metadata": {},
   "outputs": [],
   "source": [
    "def inception_module(x,\n",
    "                     filters_1x1,\n",
    "                     filters_3x3_reduce,\n",
    "                     filters_3x3,\n",
    "                     filters_pool_proj,\n",
    "                     name=None):\n",
    "    \n",
    "    conv_1x1 = Conv2D(filters_1x1, (1, 1), strides=(1, 1),padding='same', activation='relu', kernel_initializer=kernel_init, bias_initializer=bias_init)(x)\n",
    "    \n",
    "    conv_3x3 = Conv2D(filters_3x3_reduce, (1, 1), strides=(1, 1),padding='same', activation='relu', kernel_initializer=kernel_init, bias_initializer=bias_init)(x)\n",
    "    conv_3x3 = Conv2D(filters_3x3, (3, 3), strides=(1, 1),padding='same', activation='relu', kernel_initializer=kernel_init, bias_initializer=bias_init)(conv_3x3)\n",
    "\n",
    "    pool_proj = MaxPool2D((3, 3), strides=(1, 1),padding='same')(x)\n",
    "    pool_proj = Conv2D(filters_pool_proj, (1, 1), strides=(1, 1),padding='same', activation='relu', kernel_initializer=kernel_init, bias_initializer=bias_init)(pool_proj)\n",
    "\n",
    "    output = concatenate([conv_1x1, conv_3x3,pool_proj],  name=name)\n",
    "    \n",
    "    return output"
   ]
  },
  {
   "cell_type": "code",
   "execution_count": 5,
   "id": "06833d3b",
   "metadata": {},
   "outputs": [],
   "source": [
    "input_layer = Input(shape=(32, 32, 3))\n",
    "\n",
    "x = Conv2D(32, (5, 5), strides=(1, 1), activation='relu', name='conv_layer', kernel_initializer=kernel_init, bias_initializer=bias_init)(input_layer)\n",
    "\n",
    "\n",
    "x = inception_module(x,\n",
    "                 filters_1x1=32,\n",
    "                 filters_3x3_reduce=32,\n",
    "                 filters_3x3=64,\n",
    "                 filters_pool_proj=32,\n",
    "                 name='module1')\n",
    "x = inception_module(x,\n",
    "                 filters_1x1=64,\n",
    "                 filters_3x3_reduce=64,\n",
    "                 filters_3x3=128,\n",
    "                 filters_pool_proj=64,\n",
    "                 name='module2')\n",
    "\n",
    "x = MaxPool2D((2, 2), padding='same', strides=(2, 2), name='max_pool')(x)\n",
    "x = Flatten()(x)\n",
    "x = Dense(256, activation='relu', name='FC256')(x)\n",
    "x = Dense(10, activation='softmax', name='FC10')(x)\n",
    "\n"
   ]
  },
  {
   "cell_type": "code",
   "execution_count": 6,
   "id": "816e6dec",
   "metadata": {},
   "outputs": [],
   "source": [
    "model = Model(input_layer,x, name='myCNN')"
   ]
  },
  {
   "cell_type": "code",
   "execution_count": 7,
   "id": "d0518780",
   "metadata": {},
   "outputs": [
    {
     "name": "stdout",
     "output_type": "stream",
     "text": [
      "Model: \"myCNN\"\n",
      "__________________________________________________________________________________________________\n",
      "Layer (type)                    Output Shape         Param #     Connected to                     \n",
      "==================================================================================================\n",
      "input_1 (InputLayer)            [(None, 32, 32, 3)]  0                                            \n",
      "__________________________________________________________________________________________________\n",
      "conv_layer (Conv2D)             (None, 28, 28, 32)   2432        input_1[0][0]                    \n",
      "__________________________________________________________________________________________________\n",
      "conv2d_1 (Conv2D)               (None, 28, 28, 32)   1056        conv_layer[0][0]                 \n",
      "__________________________________________________________________________________________________\n",
      "max_pooling2d (MaxPooling2D)    (None, 28, 28, 32)   0           conv_layer[0][0]                 \n",
      "__________________________________________________________________________________________________\n",
      "conv2d (Conv2D)                 (None, 28, 28, 32)   1056        conv_layer[0][0]                 \n",
      "__________________________________________________________________________________________________\n",
      "conv2d_2 (Conv2D)               (None, 28, 28, 64)   18496       conv2d_1[0][0]                   \n",
      "__________________________________________________________________________________________________\n",
      "conv2d_3 (Conv2D)               (None, 28, 28, 32)   1056        max_pooling2d[0][0]              \n",
      "__________________________________________________________________________________________________\n",
      "module1 (Concatenate)           (None, 28, 28, 128)  0           conv2d[0][0]                     \n",
      "                                                                 conv2d_2[0][0]                   \n",
      "                                                                 conv2d_3[0][0]                   \n",
      "__________________________________________________________________________________________________\n",
      "conv2d_5 (Conv2D)               (None, 28, 28, 64)   8256        module1[0][0]                    \n",
      "__________________________________________________________________________________________________\n",
      "max_pooling2d_1 (MaxPooling2D)  (None, 28, 28, 128)  0           module1[0][0]                    \n",
      "__________________________________________________________________________________________________\n",
      "conv2d_4 (Conv2D)               (None, 28, 28, 64)   8256        module1[0][0]                    \n",
      "__________________________________________________________________________________________________\n",
      "conv2d_6 (Conv2D)               (None, 28, 28, 128)  73856       conv2d_5[0][0]                   \n",
      "__________________________________________________________________________________________________\n",
      "conv2d_7 (Conv2D)               (None, 28, 28, 64)   8256        max_pooling2d_1[0][0]            \n",
      "__________________________________________________________________________________________________\n",
      "module2 (Concatenate)           (None, 28, 28, 256)  0           conv2d_4[0][0]                   \n",
      "                                                                 conv2d_6[0][0]                   \n",
      "                                                                 conv2d_7[0][0]                   \n",
      "__________________________________________________________________________________________________\n",
      "max_pool (MaxPooling2D)         (None, 14, 14, 256)  0           module2[0][0]                    \n",
      "__________________________________________________________________________________________________\n",
      "flatten (Flatten)               (None, 50176)        0           max_pool[0][0]                   \n",
      "__________________________________________________________________________________________________\n",
      "FC256 (Dense)                   (None, 256)          12845312    flatten[0][0]                    \n",
      "__________________________________________________________________________________________________\n",
      "FC10 (Dense)                    (None, 10)           2570        FC256[0][0]                      \n",
      "==================================================================================================\n",
      "Total params: 12,970,602\n",
      "Trainable params: 12,970,602\n",
      "Non-trainable params: 0\n",
      "__________________________________________________________________________________________________\n"
     ]
    }
   ],
   "source": [
    "model.summary()"
   ]
  },
  {
   "cell_type": "code",
   "execution_count": 8,
   "id": "7888acad",
   "metadata": {},
   "outputs": [],
   "source": [
    "model.compile(optimizer='adam',\n",
    "           loss=tf.keras.losses.SparseCategoricalCrossentropy(from_logits=False), #use SparseCategoricalCrossentropy because labels are integers. If the labels are one-hot representation, please use CategoricalCrossentropy loss.\n",
    "           metrics=['accuracy'])"
   ]
  },
  {
   "cell_type": "code",
   "execution_count": 9,
   "id": "b1c3e14d",
   "metadata": {},
   "outputs": [
    {
     "name": "stdout",
     "output_type": "stream",
     "text": [
      "Epoch 1/20\n",
      "8/8 [==============================] - 20s 350ms/step - loss: 361.5140 - accuracy: 0.0911 - val_loss: 189.6765 - val_accuracy: 0.1000\n",
      "Epoch 2/20\n",
      "8/8 [==============================] - 2s 263ms/step - loss: 111.4553 - accuracy: 0.1063 - val_loss: 11.0423 - val_accuracy: 0.1200\n",
      "Epoch 3/20\n",
      "8/8 [==============================] - 2s 261ms/step - loss: 7.3642 - accuracy: 0.2317 - val_loss: 3.5640 - val_accuracy: 0.1550\n",
      "Epoch 4/20\n",
      "8/8 [==============================] - 2s 265ms/step - loss: 2.6052 - accuracy: 0.2374 - val_loss: 2.4366 - val_accuracy: 0.1450\n",
      "Epoch 5/20\n",
      "8/8 [==============================] - 2s 281ms/step - loss: 1.9325 - accuracy: 0.3102 - val_loss: 2.1803 - val_accuracy: 0.2300\n",
      "Epoch 6/20\n",
      "8/8 [==============================] - 3s 370ms/step - loss: 1.6185 - accuracy: 0.5026 - val_loss: 2.1923 - val_accuracy: 0.1750\n",
      "Epoch 7/20\n",
      "8/8 [==============================] - 3s 367ms/step - loss: 1.3675 - accuracy: 0.5793 - val_loss: 2.3065 - val_accuracy: 0.2400\n",
      "Epoch 8/20\n",
      "8/8 [==============================] - 3s 353ms/step - loss: 0.9833 - accuracy: 0.7247 - val_loss: 2.2731 - val_accuracy: 0.2450\n",
      "Epoch 9/20\n",
      "8/8 [==============================] - 3s 343ms/step - loss: 0.6355 - accuracy: 0.8742 - val_loss: 2.4969 - val_accuracy: 0.2250\n",
      "Epoch 10/20\n",
      "8/8 [==============================] - 3s 346ms/step - loss: 0.4190 - accuracy: 0.9222 - val_loss: 2.8053 - val_accuracy: 0.2450\n",
      "Epoch 11/20\n",
      "8/8 [==============================] - 3s 363ms/step - loss: 0.1938 - accuracy: 0.9865 - val_loss: 2.9788 - val_accuracy: 0.2300\n",
      "Epoch 12/20\n",
      "8/8 [==============================] - 3s 372ms/step - loss: 0.0938 - accuracy: 1.0000 - val_loss: 3.1556 - val_accuracy: 0.2500\n",
      "Epoch 13/20\n",
      "8/8 [==============================] - 3s 357ms/step - loss: 0.0361 - accuracy: 1.0000 - val_loss: 3.4942 - val_accuracy: 0.2200\n",
      "Epoch 14/20\n",
      "8/8 [==============================] - 3s 349ms/step - loss: 0.0121 - accuracy: 1.0000 - val_loss: 3.7283 - val_accuracy: 0.2150\n",
      "Epoch 15/20\n",
      "8/8 [==============================] - 3s 341ms/step - loss: 0.0074 - accuracy: 1.0000 - val_loss: 3.8615 - val_accuracy: 0.2450\n",
      "Epoch 16/20\n",
      "8/8 [==============================] - 3s 351ms/step - loss: 0.0044 - accuracy: 1.0000 - val_loss: 3.9350 - val_accuracy: 0.2700\n",
      "Epoch 17/20\n",
      "8/8 [==============================] - 3s 369ms/step - loss: 0.0025 - accuracy: 1.0000 - val_loss: 4.0233 - val_accuracy: 0.2500\n",
      "Epoch 18/20\n",
      "8/8 [==============================] - 3s 374ms/step - loss: 0.0023 - accuracy: 1.0000 - val_loss: 4.1533 - val_accuracy: 0.2600\n",
      "Epoch 19/20\n",
      "8/8 [==============================] - 3s 352ms/step - loss: 0.0017 - accuracy: 1.0000 - val_loss: 4.2006 - val_accuracy: 0.2650\n",
      "Epoch 20/20\n",
      "8/8 [==============================] - 3s 342ms/step - loss: 0.0013 - accuracy: 1.0000 - val_loss: 4.2828 - val_accuracy: 0.2650\n"
     ]
    }
   ],
   "source": [
    "history_model = model.fit(train_images_sub, train_labels_sub, epochs=20, batch_size=32, \n",
    "                    validation_data=(test_images_sub, test_labels_sub))"
   ]
  },
  {
   "cell_type": "code",
   "execution_count": 11,
   "id": "26803db1",
   "metadata": {},
   "outputs": [
    {
     "data": {
      "image/png": "[encoded data removed]",
      "text/plain": [
       "<Figure size 432x288 with 1 Axes>"
      ]
     },
     "metadata": {
      "needs_background": "light"
     },
     "output_type": "display_data"
    }
   ],
   "source": [
    "plt.plot(history_model.history ['accuracy'], label='Train')\n",
    "plt.plot(history_model.history ['val_accuracy'], label='Test')\n",
    "plt.ylabel('Accuracy')\n",
    "plt.xlabel('Epoch')\n",
    "plt.title('Training and testing accuracy')\n",
    "plt.legend()\n",
    "plt.show()"
   ]
  },
  {
   "cell_type": "code",
   "execution_count": null,
   "id": "e0559439",
   "metadata": {},
   "outputs": [],
   "source": [
    "The reason is that the numbers of training instances are too little ，Model is overfitting，\n",
    "model is too close to the characteristics of the training data, \n",
    "not generalizable so testing accuracy is low, and there is also no bias for the convolution layers."
   ]
  },
  {
   "cell_type": "markdown",
   "id": "4d8b1ae0",
   "metadata": {},
   "source": [
    "2. Implement the MLP model provided in Q2 in the assignment specificication and use it to classify the given dataset. Plot the training accuracy and testing accuracy under different epochs. Please see the assignment specificication for more details of the training settings."
   ]
  },
  {
   "cell_type": "code",
   "execution_count": 12,
   "id": "646a872c",
   "metadata": {},
   "outputs": [],
   "source": [
    "input_layer = Input(shape=(32, 32, 3))\n",
    "x = Flatten()(input_layer)\n",
    "x = Dense(256, activation='relu', name='FC256')(x)\n",
    "x = Dense(10, activation='softmax', name='FC10')(x)"
   ]
  },
  {
   "cell_type": "code",
   "execution_count": 13,
   "id": "e7775d12",
   "metadata": {},
   "outputs": [],
   "source": [
    "MLP = Model(input_layer, x, name='mlp')"
   ]
  },
  {
   "cell_type": "code",
   "execution_count": 14,
   "id": "3c463292",
   "metadata": {},
   "outputs": [],
   "source": [
    "MLP.compile(optimizer='adam',\n",
    "           loss=tf.keras.losses.SparseCategoricalCrossentropy(from_logits=False), #use SparseCategoricalCrossentropy because labels are integers. If the labels are one-hot representation, please use CategoricalCrossentropy loss.\n",
    "           metrics=['accuracy'])"
   ]
  },
  {
   "cell_type": "code",
   "execution_count": 15,
   "id": "06d4b7d1",
   "metadata": {
    "scrolled": true
   },
   "outputs": [
    {
     "name": "stdout",
     "output_type": "stream",
     "text": [
      "Epoch 1/20\n",
      "8/8 [==============================] - 1s 53ms/step - loss: 813.8353 - accuracy: 0.0722 - val_loss: 863.6873 - val_accuracy: 0.0850\n",
      "Epoch 2/20\n",
      "8/8 [==============================] - 0s 7ms/step - loss: 785.2535 - accuracy: 0.1153 - val_loss: 572.2999 - val_accuracy: 0.1700\n",
      "Epoch 3/20\n",
      "8/8 [==============================] - 0s 7ms/step - loss: 448.7298 - accuracy: 0.1340 - val_loss: 135.0993 - val_accuracy: 0.1600\n",
      "Epoch 4/20\n",
      "8/8 [==============================] - 0s 8ms/step - loss: 134.9167 - accuracy: 0.1950 - val_loss: 143.1797 - val_accuracy: 0.1800\n",
      "Epoch 5/20\n",
      "8/8 [==============================] - 0s 8ms/step - loss: 112.1955 - accuracy: 0.2617 - val_loss: 88.1359 - val_accuracy: 0.1750\n",
      "Epoch 6/20\n",
      "8/8 [==============================] - 0s 9ms/step - loss: 81.7389 - accuracy: 0.2163 - val_loss: 88.4933 - val_accuracy: 0.1700\n",
      "Epoch 7/20\n",
      "8/8 [==============================] - 0s 11ms/step - loss: 64.2461 - accuracy: 0.2859 - val_loss: 74.5421 - val_accuracy: 0.2100\n",
      "Epoch 8/20\n",
      "8/8 [==============================] - 0s 8ms/step - loss: 46.1672 - accuracy: 0.2874 - val_loss: 57.2451 - val_accuracy: 0.1700\n",
      "Epoch 9/20\n",
      "8/8 [==============================] - 0s 7ms/step - loss: 40.1087 - accuracy: 0.3551 - val_loss: 59.7492 - val_accuracy: 0.1650\n",
      "Epoch 10/20\n",
      "8/8 [==============================] - 0s 7ms/step - loss: 32.1439 - accuracy: 0.3727 - val_loss: 41.7217 - val_accuracy: 0.2250\n",
      "Epoch 11/20\n",
      "8/8 [==============================] - 0s 7ms/step - loss: 23.9016 - accuracy: 0.4078 - val_loss: 49.1505 - val_accuracy: 0.2100\n",
      "Epoch 12/20\n",
      "8/8 [==============================] - 0s 6ms/step - loss: 20.8054 - accuracy: 0.4528 - val_loss: 43.1152 - val_accuracy: 0.2100\n",
      "Epoch 13/20\n",
      "8/8 [==============================] - 0s 10ms/step - loss: 19.5268 - accuracy: 0.5004 - val_loss: 40.8740 - val_accuracy: 0.2350\n",
      "Epoch 14/20\n",
      "8/8 [==============================] - 0s 13ms/step - loss: 20.5306 - accuracy: 0.4196 - val_loss: 41.8401 - val_accuracy: 0.2350\n",
      "Epoch 15/20\n",
      "8/8 [==============================] - 0s 9ms/step - loss: 16.1575 - accuracy: 0.5091 - val_loss: 48.5385 - val_accuracy: 0.2050\n",
      "Epoch 16/20\n",
      "8/8 [==============================] - 0s 8ms/step - loss: 18.0621 - accuracy: 0.4931 - val_loss: 41.8083 - val_accuracy: 0.1900\n",
      "Epoch 17/20\n",
      "8/8 [==============================] - 0s 7ms/step - loss: 11.2661 - accuracy: 0.5179 - val_loss: 46.4306 - val_accuracy: 0.2350\n",
      "Epoch 18/20\n",
      "8/8 [==============================] - 0s 6ms/step - loss: 14.1574 - accuracy: 0.5630 - val_loss: 33.6038 - val_accuracy: 0.2500\n",
      "Epoch 19/20\n",
      "8/8 [==============================] - 0s 6ms/step - loss: 8.3773 - accuracy: 0.6786 - val_loss: 34.5642 - val_accuracy: 0.2350\n",
      "Epoch 20/20\n",
      "8/8 [==============================] - 0s 8ms/step - loss: 7.0934 - accuracy: 0.6752 - val_loss: 35.1172 - val_accuracy: 0.2200\n"
     ]
    }
   ],
   "source": [
    "history_mlp = MLP.fit(train_images_sub, train_labels_sub, epochs=20, batch_size=32, \n",
    "                    validation_data=(test_images_sub, test_labels_sub))"
   ]
  },
  {
   "cell_type": "code",
   "execution_count": 16,
   "id": "def74c3e",
   "metadata": {},
   "outputs": [
    {
     "data": {
      "image/png": "[encoded data removed]",
      "text/plain": [
       "<Figure size 432x288 with 1 Axes>"
      ]
     },
     "metadata": {
      "needs_background": "light"
     },
     "output_type": "display_data"
    }
   ],
   "source": [
    "plt.plot(history_mlp.history['accuracy'], label='Train')\n",
    "plt.plot(history_mlp.history['val_accuracy'], label='Test')\n",
    "plt.ylabel('Accuracy')\n",
    "plt.xlabel('Epoch')\n",
    "plt.title('Training and testing accuracy')\n",
    "plt.legend()\n",
    "plt.show()"
   ]
  },
  {
   "cell_type": "code",
   "execution_count": null,
   "id": "4e7d60ab",
   "metadata": {},
   "outputs": [],
   "source": [
    "the reason why this mlp performs poor is: the model is too simple, the network is too simple ,\n",
    "model is underfitting"
   ]
  },
  {
   "cell_type": "markdown",
   "id": "e4b50d23",
   "metadata": {},
   "source": [
    "3. To improve the performance of the above MLP, one strategy is to use features of the images as the input of the MLP to improve the performance.  How will you extract the features from the raw images?  Implement the feature extraction and classification on the given dataset, and plot the training accuracy and testing accuracy under different epochs. Please see the assignment specificication for more details of the training settings."
   ]
  },
  {
   "cell_type": "code",
   "execution_count": 17,
   "id": "d61ca653",
   "metadata": {},
   "outputs": [],
   "source": [
    "from tensorflow.keras.applications.vgg19 import VGG19\n",
    "from tensorflow.keras.preprocessing import image\n",
    "from tensorflow.keras.applications.vgg19 import preprocess_input\n",
    "from tensorflow.keras.models import Model\n",
    "import numpy as np"
   ]
  },
  {
   "cell_type": "code",
   "execution_count": 66,
   "id": "1ec83408",
   "metadata": {},
   "outputs": [],
   "source": [
    "deep_model = VGG19(weights='imagenet', input_shape=[32,32,3],include_top=False,classifier_activation=\"softmax\")\n",
    "modelvgg = Model(inputs=deep_model.input, outputs=deep_model.get_layer('block5_conv4').output)\n"
   ]
  },
  {
   "cell_type": "code",
   "execution_count": 67,
   "id": "db789600",
   "metadata": {},
   "outputs": [],
   "source": [
    "vgg_train=modelvgg.predict(train_images_sub)\n",
    "vgg_test=modelvgg.predict(test_images_sub)"
   ]
  },
  {
   "cell_type": "code",
   "execution_count": 68,
   "id": "2a901ee2",
   "metadata": {},
   "outputs": [],
   "source": [
    "input_layer1 = Input(shape=(2, 2, 512))\n",
    "x1 = Flatten()(input_layer1)\n",
    "x1 = Dense(256, activation='relu', name='FC256')(x1)\n",
    "x1 = Dense(10, activation='softmax', name='FC10')(x1)"
   ]
  },
  {
   "cell_type": "code",
   "execution_count": 69,
   "id": "1ec1e229",
   "metadata": {},
   "outputs": [],
   "source": [
    "fea_MLP = Model(input_layer1, x1, name='fea_mlp')"
   ]
  },
  {
   "cell_type": "code",
   "execution_count": 70,
   "id": "ad5a3181",
   "metadata": {},
   "outputs": [],
   "source": [
    "fea_MLP.compile(optimizer='adam',\n",
    "           loss=tf.keras.losses.SparseCategoricalCrossentropy(from_logits=False), #use SparseCategoricalCrossentropy because labels are integers. If the labels are one-hot representation, please use CategoricalCrossentropy loss.\n",
    "           metrics=['accuracy'])"
   ]
  },
  {
   "cell_type": "code",
   "execution_count": 71,
   "id": "ae1e45c2",
   "metadata": {},
   "outputs": [
    {
     "name": "stdout",
     "output_type": "stream",
     "text": [
      "Epoch 1/20\n",
      "8/8 [==============================] - 0s 16ms/step - loss: 14.7284 - accuracy: 0.2000 - val_loss: 11.3093 - val_accuracy: 0.3300\n",
      "Epoch 2/20\n",
      "8/8 [==============================] - 0s 6ms/step - loss: 2.2775 - accuracy: 0.7320 - val_loss: 10.0618 - val_accuracy: 0.3550\n",
      "Epoch 3/20\n",
      "8/8 [==============================] - 0s 7ms/step - loss: 0.5041 - accuracy: 0.9200 - val_loss: 10.0796 - val_accuracy: 0.3850\n",
      "Epoch 4/20\n",
      "8/8 [==============================] - 0s 6ms/step - loss: 0.1152 - accuracy: 0.9640 - val_loss: 10.6306 - val_accuracy: 0.3850\n",
      "Epoch 5/20\n",
      "8/8 [==============================] - 0s 7ms/step - loss: 0.0773 - accuracy: 0.9760 - val_loss: 10.5661 - val_accuracy: 0.3850\n",
      "Epoch 6/20\n",
      "8/8 [==============================] - 0s 7ms/step - loss: 0.0114 - accuracy: 0.9960 - val_loss: 10.5563 - val_accuracy: 0.3750\n",
      "Epoch 7/20\n",
      "8/8 [==============================] - 0s 7ms/step - loss: 0.0031 - accuracy: 1.0000 - val_loss: 10.5581 - val_accuracy: 0.3800\n",
      "Epoch 8/20\n",
      "8/8 [==============================] - 0s 6ms/step - loss: 0.0012 - accuracy: 1.0000 - val_loss: 10.5627 - val_accuracy: 0.3800\n",
      "Epoch 9/20\n",
      "8/8 [==============================] - 0s 5ms/step - loss: 4.0560e-04 - accuracy: 1.0000 - val_loss: 10.5620 - val_accuracy: 0.3800\n",
      "Epoch 10/20\n",
      "8/8 [==============================] - 0s 7ms/step - loss: 2.0879e-04 - accuracy: 1.0000 - val_loss: 10.5634 - val_accuracy: 0.3850\n",
      "Epoch 11/20\n",
      "8/8 [==============================] - 0s 8ms/step - loss: 1.5768e-04 - accuracy: 1.0000 - val_loss: 10.5626 - val_accuracy: 0.3850\n",
      "Epoch 12/20\n",
      "8/8 [==============================] - 0s 6ms/step - loss: 1.2550e-04 - accuracy: 1.0000 - val_loss: 10.5605 - val_accuracy: 0.3850\n",
      "Epoch 13/20\n",
      "8/8 [==============================] - 0s 6ms/step - loss: 1.0573e-04 - accuracy: 1.0000 - val_loss: 10.5591 - val_accuracy: 0.3850\n",
      "Epoch 14/20\n",
      "8/8 [==============================] - 0s 5ms/step - loss: 9.5396e-05 - accuracy: 1.0000 - val_loss: 10.5576 - val_accuracy: 0.3850\n",
      "Epoch 15/20\n",
      "8/8 [==============================] - 0s 9ms/step - loss: 8.7966e-05 - accuracy: 1.0000 - val_loss: 10.5563 - val_accuracy: 0.3850\n",
      "Epoch 16/20\n",
      "8/8 [==============================] - 0s 11ms/step - loss: 8.0995e-05 - accuracy: 1.0000 - val_loss: 10.5548 - val_accuracy: 0.3850\n",
      "Epoch 17/20\n",
      "8/8 [==============================] - 0s 12ms/step - loss: 7.6255e-05 - accuracy: 1.0000 - val_loss: 10.5540 - val_accuracy: 0.3850\n",
      "Epoch 18/20\n",
      "8/8 [==============================] - 0s 6ms/step - loss: 7.0788e-05 - accuracy: 1.0000 - val_loss: 10.5527 - val_accuracy: 0.3850\n",
      "Epoch 19/20\n",
      "8/8 [==============================] - 0s 6ms/step - loss: 6.6353e-05 - accuracy: 1.0000 - val_loss: 10.5518 - val_accuracy: 0.3850\n",
      "Epoch 20/20\n",
      "8/8 [==============================] - 0s 6ms/step - loss: 6.2920e-05 - accuracy: 1.0000 - val_loss: 10.5505 - val_accuracy: 0.3850\n"
     ]
    }
   ],
   "source": [
    "history_bettermlp= fea_MLP.fit(vgg_train, train_labels_sub, epochs=20, batch_size=32, \n",
    "                    validation_data=(vgg_test, test_labels_sub))"
   ]
  },
  {
   "cell_type": "code",
   "execution_count": 72,
   "id": "7b7a92da",
   "metadata": {},
   "outputs": [
    {
     "data": {
      "image/png": "[encoded data removed]",
      "text/plain": [
       "<Figure size 432x288 with 1 Axes>"
      ]
     },
     "metadata": {
      "needs_background": "light"
     },
     "output_type": "display_data"
    }
   ],
   "source": [
    "plt.plot(history_bettermlp.history ['accuracy'], label='Train')\n",
    "plt.plot(history_bettermlp.history ['val_accuracy'], label='Test')\n",
    "plt.ylabel('Accuracy')\n",
    "plt.xlabel('Epoch')\n",
    "plt.title('Training and testing accuracy')\n",
    "plt.legend()\n",
    "plt.show()"
   ]
  },
  {
   "cell_type": "code",
   "execution_count": null,
   "id": "aae74897",
   "metadata": {},
   "outputs": [],
   "source": [
    "I use a deep CNN (VGG19) pre-trained on Imagenet for feature extraction and use MLP for classification\n",
    "After crossing the vgg19 layer, use the output of the \"conv5_block4_out\" layer as the feature output.\n",
    "The reason why this method can improve the accuracy of MLP testing is\n",
    "It can extract more advanced features from the original pixels, and these high-dimensional features can capture\n",
    "The difference between each category. The deep pre-trained network can support the comparison of images with existing imagenet to improve accuracy\n",
    "And provide a Dropout method to prevent overfitting of the model,\n"
   ]
  }
 ],
 "metadata": {
  "kernelspec": {
   "display_name": "Python [conda env:root] *",
   "language": "python",
   "name": "conda-root-py"
  },
  "language_info": {
   "codemirror_mode": {
    "name": "ipython",
    "version": 3
   },
   "file_extension": ".py",
   "mimetype": "text/x-python",
   "name": "python",
   "nbconvert_exporter": "python",
   "pygments_lexer": "ipython3",
   "version": "3.8.5"
  }
 },
 "nbformat": 4,
 "nbformat_minor": 5
}
